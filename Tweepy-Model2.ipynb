{
 "cells": [
  {
   "cell_type": "markdown",
   "metadata": {},
   "source": [
    "### Import libraries"
   ]
  },
  {
   "cell_type": "markdown",
   "metadata": {},
   "source": [
    "#### Run the same model and add the correctly labeled tweets based on the prediction on the first model\n",
    "- We used KNN to predict the first model. Out of the 50 test data, 32 were correct."
   ]
  },
  {
   "cell_type": "code",
   "execution_count": 1,
   "metadata": {},
   "outputs": [
    {
     "name": "stderr",
     "output_type": "stream",
     "text": [
      "/Users/jedvillareal/anaconda3/envs/ipykernel_py3/lib/python3.6/site-packages/sklearn/cross_validation.py:41: DeprecationWarning: This module was deprecated in version 0.18 in favor of the model_selection module into which all the refactored classes and functions are moved. Also note that the interface of the new CV iterators are different from that of this module. This module will be removed in 0.20.\n",
      "  \"This module will be removed in 0.20.\", DeprecationWarning)\n"
     ]
    }
   ],
   "source": [
    "import numpy as np\n",
    "import pandas as pd\n",
    "import scipy as sp   \n",
    "from sklearn import metrics\n",
    "from textblob import TextBlob, Word\n",
    "from nltk.stem.snowball import SnowballStemmer\n",
    "%matplotlib inline\n",
    "\n",
    "from sklearn.feature_extraction.text import CountVectorizer, TfidfVectorizer\n",
    "\n",
    "from sklearn.cross_validation import train_test_split #how does this work?\n",
    "from sklearn.model_selection import train_test_split as tts\n",
    "\n",
    "from sklearn.ensemble import GradientBoostingClassifier\n",
    "from sklearn.linear_model import LogisticRegression\n",
    "from sklearn.tree import DecisionTreeClassifier\n",
    "from sklearn.ensemble import RandomForestClassifier , VotingClassifier\n",
    "from sklearn.neighbors import KNeighborsClassifier\n",
    "neighbors = 5\n",
    "from sklearn.naive_bayes import MultinomialNB\n",
    "from nltk.classify import NaiveBayesClassifier  #how does this work?\n",
    "\n",
    "from sklearn.model_selection import cross_val_score as cvs"
   ]
  },
  {
   "cell_type": "code",
   "execution_count": 6,
   "metadata": {},
   "outputs": [
    {
     "data": {
      "text/html": [
       "<div>\n",
       "<style scoped>\n",
       "    .dataframe tbody tr th:only-of-type {\n",
       "        vertical-align: middle;\n",
       "    }\n",
       "\n",
       "    .dataframe tbody tr th {\n",
       "        vertical-align: top;\n",
       "    }\n",
       "\n",
       "    .dataframe thead th {\n",
       "        text-align: right;\n",
       "    }\n",
       "</style>\n",
       "<table border=\"1\" class=\"dataframe\">\n",
       "  <thead>\n",
       "    <tr style=\"text-align: right;\">\n",
       "      <th></th>\n",
       "      <th>text</th>\n",
       "      <th>label</th>\n",
       "    </tr>\n",
       "  </thead>\n",
       "  <tbody>\n",
       "    <tr>\n",
       "      <th>0</th>\n",
       "      <td>RT @WSHHRAP: Rappers with the most Billboard H...</td>\n",
       "      <td>1.0</td>\n",
       "    </tr>\n",
       "    <tr>\n",
       "      <th>1</th>\n",
       "      <td>Kanye and Cudi merge, together they rule as Kanye</td>\n",
       "      <td>1.0</td>\n",
       "    </tr>\n",
       "    <tr>\n",
       "      <th>2</th>\n",
       "      <td>RT @RappersSaid: Rappers with the most Billboa...</td>\n",
       "      <td>1.0</td>\n",
       "    </tr>\n",
       "    <tr>\n",
       "      <th>3</th>\n",
       "      <td>RT @c_drew_: Kanye shaped like he played barit...</td>\n",
       "      <td>1.0</td>\n",
       "    </tr>\n",
       "    <tr>\n",
       "      <th>4</th>\n",
       "      <td>RT @Bubbabue: @kanyewest Your album #ye is an ...</td>\n",
       "      <td>1.0</td>\n",
       "    </tr>\n",
       "  </tbody>\n",
       "</table>\n",
       "</div>"
      ],
      "text/plain": [
       "                                                text  label\n",
       "0  RT @WSHHRAP: Rappers with the most Billboard H...    1.0\n",
       "1  Kanye and Cudi merge, together they rule as Kanye    1.0\n",
       "2  RT @RappersSaid: Rappers with the most Billboa...    1.0\n",
       "3  RT @c_drew_: Kanye shaped like he played barit...    1.0\n",
       "4  RT @Bubbabue: @kanyewest Your album #ye is an ...    1.0"
      ]
     },
     "execution_count": 6,
     "metadata": {},
     "output_type": "execute_result"
    }
   ],
   "source": [
    "kanye2 = pd.read_csv('kwest.csv')\n",
    "kanye2.head()"
   ]
  },
  {
   "cell_type": "code",
   "execution_count": 7,
   "metadata": {},
   "outputs": [
    {
     "name": "stdout",
     "output_type": "stream",
     "text": [
      "<class 'pandas.core.frame.DataFrame'>\n",
      "RangeIndex: 2064 entries, 0 to 2063\n",
      "Data columns (total 2 columns):\n",
      "text     2064 non-null object\n",
      "label    370 non-null float64\n",
      "dtypes: float64(1), object(1)\n",
      "memory usage: 32.3+ KB\n"
     ]
    }
   ],
   "source": [
    "kanye2.info()"
   ]
  },
  {
   "cell_type": "code",
   "execution_count": 8,
   "metadata": {
    "scrolled": true
   },
   "outputs": [
    {
     "data": {
      "text/html": [
       "<div>\n",
       "<style scoped>\n",
       "    .dataframe tbody tr th:only-of-type {\n",
       "        vertical-align: middle;\n",
       "    }\n",
       "\n",
       "    .dataframe tbody tr th {\n",
       "        vertical-align: top;\n",
       "    }\n",
       "\n",
       "    .dataframe thead th {\n",
       "        text-align: right;\n",
       "    }\n",
       "</style>\n",
       "<table border=\"1\" class=\"dataframe\">\n",
       "  <thead>\n",
       "    <tr style=\"text-align: right;\">\n",
       "      <th></th>\n",
       "      <th>index</th>\n",
       "      <th>text</th>\n",
       "      <th>label</th>\n",
       "    </tr>\n",
       "  </thead>\n",
       "  <tbody>\n",
       "    <tr>\n",
       "      <th>369</th>\n",
       "      <td>0</td>\n",
       "      <td>RT @WSHHRAP: Rappers with the most Billboard H...</td>\n",
       "      <td>1.0</td>\n",
       "    </tr>\n",
       "    <tr>\n",
       "      <th>370</th>\n",
       "      <td>370</td>\n",
       "      <td>I need someone who can edit to put Bebe Zahara...</td>\n",
       "      <td>NaN</td>\n",
       "    </tr>\n",
       "    <tr>\n",
       "      <th>371</th>\n",
       "      <td>371</td>\n",
       "      <td>When???!!!! Lmao yall b On SuperXtra LMMMAoo h...</td>\n",
       "      <td>NaN</td>\n",
       "    </tr>\n",
       "    <tr>\n",
       "      <th>372</th>\n",
       "      <td>372</td>\n",
       "      <td>RT @new_branches: Drake wrote the hook for Kan...</td>\n",
       "      <td>NaN</td>\n",
       "    </tr>\n",
       "    <tr>\n",
       "      <th>373</th>\n",
       "      <td>373</td>\n",
       "      <td>@BHOPDaMaestro by Lil Baby ft. Drake &amp;amp; Kan...</td>\n",
       "      <td>NaN</td>\n",
       "    </tr>\n",
       "  </tbody>\n",
       "</table>\n",
       "</div>"
      ],
      "text/plain": [
       "     index                                               text  label\n",
       "369      0  RT @WSHHRAP: Rappers with the most Billboard H...    1.0\n",
       "370    370  I need someone who can edit to put Bebe Zahara...    NaN\n",
       "371    371  When???!!!! Lmao yall b On SuperXtra LMMMAoo h...    NaN\n",
       "372    372  RT @new_branches: Drake wrote the hook for Kan...    NaN\n",
       "373    373  @BHOPDaMaestro by Lil Baby ft. Drake &amp; Kan...    NaN"
      ]
     },
     "execution_count": 8,
     "metadata": {},
     "output_type": "execute_result"
    }
   ],
   "source": [
    "df = kanye2.sort_values(by = 'label', ascending=True)\n",
    "df1 = df.reset_index()\n",
    "df1[369:].head()"
   ]
  },
  {
   "cell_type": "code",
   "execution_count": 9,
   "metadata": {},
   "outputs": [
    {
     "name": "stdout",
     "output_type": "stream",
     "text": [
      "<class 'pandas.core.frame.DataFrame'>\n",
      "Int64Index: 370 entries, 0 to 369\n",
      "Data columns (total 3 columns):\n",
      "index    370 non-null int64\n",
      "text     370 non-null object\n",
      "label    370 non-null float64\n",
      "dtypes: float64(1), int64(1), object(1)\n",
      "memory usage: 11.6+ KB\n"
     ]
    }
   ],
   "source": [
    "kanye2train = df1[(df1['label'] ==0)|(df1['label']==1)]\n",
    "kanye2train.info()"
   ]
  },
  {
   "cell_type": "code",
   "execution_count": 10,
   "metadata": {},
   "outputs": [
    {
     "data": {
      "text/html": [
       "<div>\n",
       "<style scoped>\n",
       "    .dataframe tbody tr th:only-of-type {\n",
       "        vertical-align: middle;\n",
       "    }\n",
       "\n",
       "    .dataframe tbody tr th {\n",
       "        vertical-align: top;\n",
       "    }\n",
       "\n",
       "    .dataframe thead th {\n",
       "        text-align: right;\n",
       "    }\n",
       "</style>\n",
       "<table border=\"1\" class=\"dataframe\">\n",
       "  <thead>\n",
       "    <tr style=\"text-align: right;\">\n",
       "      <th></th>\n",
       "      <th>index</th>\n",
       "      <th>text</th>\n",
       "      <th>label</th>\n",
       "    </tr>\n",
       "  </thead>\n",
       "  <tbody>\n",
       "    <tr>\n",
       "      <th>0</th>\n",
       "      <td>184</td>\n",
       "      <td>RT @RealCandaceO: The mob is loud, but the maj...</td>\n",
       "      <td>0.0</td>\n",
       "    </tr>\n",
       "    <tr>\n",
       "      <th>1</th>\n",
       "      <td>204</td>\n",
       "      <td>@kanyewest I miss the old Kanye. We want pre-nap!</td>\n",
       "      <td>0.0</td>\n",
       "    </tr>\n",
       "    <tr>\n",
       "      <th>2</th>\n",
       "      <td>203</td>\n",
       "      <td>RT @MattsMentions: “I didn’t listen to Kanye’s...</td>\n",
       "      <td>0.0</td>\n",
       "    </tr>\n",
       "    <tr>\n",
       "      <th>3</th>\n",
       "      <td>202</td>\n",
       "      <td>Honestly I fucks with Kanye’s style. Rich peop...</td>\n",
       "      <td>0.0</td>\n",
       "    </tr>\n",
       "    <tr>\n",
       "      <th>4</th>\n",
       "      <td>201</td>\n",
       "      <td>@GOPChairwoman @realDonaldTrump \"I WILL NEVER ...</td>\n",
       "      <td>0.0</td>\n",
       "    </tr>\n",
       "  </tbody>\n",
       "</table>\n",
       "</div>"
      ],
      "text/plain": [
       "   index                                               text  label\n",
       "0    184  RT @RealCandaceO: The mob is loud, but the maj...    0.0\n",
       "1    204  @kanyewest I miss the old Kanye. We want pre-nap!    0.0\n",
       "2    203  RT @MattsMentions: “I didn’t listen to Kanye’s...    0.0\n",
       "3    202  Honestly I fucks with Kanye’s style. Rich peop...    0.0\n",
       "4    201  @GOPChairwoman @realDonaldTrump \"I WILL NEVER ...    0.0"
      ]
     },
     "execution_count": 10,
     "metadata": {},
     "output_type": "execute_result"
    }
   ],
   "source": [
    "kanye2train.head()"
   ]
  },
  {
   "cell_type": "code",
   "execution_count": 53,
   "metadata": {},
   "outputs": [
    {
     "name": "stdout",
     "output_type": "stream",
     "text": [
      "<class 'pandas.core.frame.DataFrame'>\n",
      "Int64Index: 75 entries, 370 to 444\n",
      "Data columns (total 3 columns):\n",
      "index    75 non-null int64\n",
      "text     75 non-null object\n",
      "label    0 non-null float64\n",
      "dtypes: float64(1), int64(1), object(1)\n",
      "memory usage: 2.3+ KB\n"
     ]
    }
   ],
   "source": [
    "kanye2test = df1[df1['label'].isnull()][:75]\n",
    "kanye2test.info()"
   ]
  },
  {
   "cell_type": "code",
   "execution_count": 54,
   "metadata": {},
   "outputs": [
    {
     "data": {
      "text/html": [
       "<div>\n",
       "<style scoped>\n",
       "    .dataframe tbody tr th:only-of-type {\n",
       "        vertical-align: middle;\n",
       "    }\n",
       "\n",
       "    .dataframe tbody tr th {\n",
       "        vertical-align: top;\n",
       "    }\n",
       "\n",
       "    .dataframe thead th {\n",
       "        text-align: right;\n",
       "    }\n",
       "</style>\n",
       "<table border=\"1\" class=\"dataframe\">\n",
       "  <thead>\n",
       "    <tr style=\"text-align: right;\">\n",
       "      <th></th>\n",
       "      <th>index</th>\n",
       "      <th>text</th>\n",
       "      <th>label</th>\n",
       "    </tr>\n",
       "  </thead>\n",
       "  <tbody>\n",
       "    <tr>\n",
       "      <th>370</th>\n",
       "      <td>370</td>\n",
       "      <td>I need someone who can edit to put Bebe Zahara...</td>\n",
       "      <td>NaN</td>\n",
       "    </tr>\n",
       "    <tr>\n",
       "      <th>371</th>\n",
       "      <td>371</td>\n",
       "      <td>When???!!!! Lmao yall b On SuperXtra LMMMAoo h...</td>\n",
       "      <td>NaN</td>\n",
       "    </tr>\n",
       "    <tr>\n",
       "      <th>372</th>\n",
       "      <td>372</td>\n",
       "      <td>RT @new_branches: Drake wrote the hook for Kan...</td>\n",
       "      <td>NaN</td>\n",
       "    </tr>\n",
       "    <tr>\n",
       "      <th>373</th>\n",
       "      <td>373</td>\n",
       "      <td>@BHOPDaMaestro by Lil Baby ft. Drake &amp;amp; Kan...</td>\n",
       "      <td>NaN</td>\n",
       "    </tr>\n",
       "    <tr>\n",
       "      <th>374</th>\n",
       "      <td>374</td>\n",
       "      <td>I’ve never heard Kanye West talk until celebri...</td>\n",
       "      <td>NaN</td>\n",
       "    </tr>\n",
       "  </tbody>\n",
       "</table>\n",
       "</div>"
      ],
      "text/plain": [
       "     index                                               text  label\n",
       "370    370  I need someone who can edit to put Bebe Zahara...    NaN\n",
       "371    371  When???!!!! Lmao yall b On SuperXtra LMMMAoo h...    NaN\n",
       "372    372  RT @new_branches: Drake wrote the hook for Kan...    NaN\n",
       "373    373  @BHOPDaMaestro by Lil Baby ft. Drake &amp; Kan...    NaN\n",
       "374    374  I’ve never heard Kanye West talk until celebri...    NaN"
      ]
     },
     "execution_count": 54,
     "metadata": {},
     "output_type": "execute_result"
    }
   ],
   "source": [
    "kanye2test.head()"
   ]
  },
  {
   "cell_type": "code",
   "execution_count": 55,
   "metadata": {},
   "outputs": [
    {
     "name": "stdout",
     "output_type": "stream",
     "text": [
      "<class 'pandas.core.series.Series'>\n"
     ]
    },
    {
     "data": {
      "text/plain": [
       "0    RT @RealCandaceO: The mob is loud, but the maj...\n",
       "1    @kanyewest I miss the old Kanye. We want pre-nap!\n",
       "2    RT @MattsMentions: “I didn’t listen to Kanye’s...\n",
       "3    Honestly I fucks with Kanye’s style. Rich peop...\n",
       "4    @GOPChairwoman @realDonaldTrump \"I WILL NEVER ...\n",
       "Name: text, dtype: object"
      ]
     },
     "execution_count": 55,
     "metadata": {},
     "output_type": "execute_result"
    }
   ],
   "source": [
    "text = kanye2train['text']\n",
    "print(type(text))\n",
    "text.head()"
   ]
  },
  {
   "cell_type": "code",
   "execution_count": 56,
   "metadata": {
    "scrolled": true
   },
   "outputs": [
    {
     "data": {
      "text/plain": [
       "370    I need someone who can edit to put Bebe Zahara...\n",
       "371    When???!!!! Lmao yall b On SuperXtra LMMMAoo h...\n",
       "372    RT @new_branches: Drake wrote the hook for Kan...\n",
       "373    @BHOPDaMaestro by Lil Baby ft. Drake &amp; Kan...\n",
       "374    I’ve never heard Kanye West talk until celebri...\n",
       "375        Someone stop this guy https://t.co/bEXdtJViQR\n",
       "376    RT @SnakesPod: Check out the latest from #snak...\n",
       "377    RT @Chrisshane8: I created an almost real Scot...\n",
       "378    RT @SirCoach: So its gonna be all downhill aft...\n",
       "379    RT @JakellDaGOAT: But if he actually commit su...\n",
       "380    kanye got loaned gza's mic for reborn. sounds ...\n",
       "381    (((FREE download))) \"TRUE LIES\" a collection o...\n",
       "382                 Drake’s &amp; Kanye’s twins &gt;&gt;\n",
       "383    @Phillyronan Kanye producing the album as well...\n",
       "384    RT @LaurenWern: Why? Is Kanye not available? h...\n",
       "385    RT @TeamKanyeDaily: @Genius You guys are so me...\n",
       "386    Y'all ain't file for bankruptcy yet? https://t...\n",
       "387       Welcome to the Ye fam. https://t.co/CpLGawt5OT\n",
       "388    What Ty say? “Fuck it up” https://t.co/PsBGn4xgow\n",
       "389    Kanye West's 'Ye' hits No. 1 on Billboard char...\n",
       "390    Y’all don’t have to listen to Kanye’s album cu...\n",
       "391    @KimKardashian @KermitSpills What Kanye doing ...\n",
       "392    Remember when mass people were on here talking...\n",
       "393    RT @RapUp: Drake is now credited as a co-write...\n",
       "394    RT @_ObiJuan__: Trump is President Snow from@t...\n",
       "395    RT @nxtprodigy: From “Welcome to Heartbreak” o...\n",
       "396    Ariana listening to KanYe and Cudi fuels my soul.\n",
       "397    RT @JoeWendel: Kanye: &lt;breathes&gt;\\n\\n@Kan...\n",
       "398    Kanye I don’t wanna see no mo “Yeezy” scrunch ...\n",
       "399    I mean you coulda asked for more follow up and...\n",
       "                             ...                        \n",
       "415    @L0soJr If that was a pic from someone other t...\n",
       "416    Top 8 Cars Ever Owned by Kanye https://t.co/c2...\n",
       "417    RT @KittyAndPitty: Slavery was a choice - as i...\n",
       "418    RT @RappersSaid: Kanye West released the track...\n",
       "419    RT @KINGPR1NCESS: Los Angeles huh https://t.co...\n",
       "420    @kanyewest thank you for the soul you put into...\n",
       "421    Lmao and I ain’t even listen to it https://t.c...\n",
       "422    RT @jace_welter: When Kanye West said\\n\\n“Poop...\n",
       "423    I liked a @YouTube video https://t.co/jWurxVtZ...\n",
       "424    RT @DisputeOne: Kanye West Reveals Tracklist F...\n",
       "425           @lo_michelle17 Thank you Kanye, Very cool!\n",
       "426    Yikes - Kanye West | Song Lyrics https://t.co/...\n",
       "427    Another one of her important meetings https://...\n",
       "428    #NowPlaying Keri Hilson feat. Kanye West and N...\n",
       "429    RT @leeza_maxey: me: ghannie , apparently kim ...\n",
       "430    @_Faithhhhhh I ain't gon lie....side bar my fa...\n",
       "431    Drake Credited In 'CAPS' As A Co-Writer On Kan...\n",
       "432    Yes! Only Kanye can save the world! I stan. ht...\n",
       "433                     Yikes 😬😂 https://t.co/x1N5bkDiAE\n",
       "434    RT @yaperboi: kanye definitely not off the lou...\n",
       "435    RT @RapHubDaily: Rappers with the most Billboa...\n",
       "436    They saw what Kanye's antics did and got ideas...\n",
       "437    RT @nofIags: twitter “canceled” kanye yet his ...\n",
       "438    RT @Dennis_khap: You need to kanye rest so you...\n",
       "439    *kanye breathes *\\n\\nY’all : “oh my god same “...\n",
       "440    When Kanye says “none of us would be here with...\n",
       "441    @bringbacklance_ Well you like the Pacers and ...\n",
       "442        RT @mastaace: Nobody. https://t.co/QUofmPdi5P\n",
       "443    All I said was Yikes tho...😂😂😂 #YeStans https:...\n",
       "444    RT @new_branches: Drake wrote the hook for Kan...\n",
       "Name: text, Length: 75, dtype: object"
      ]
     },
     "execution_count": 56,
     "metadata": {},
     "output_type": "execute_result"
    }
   ],
   "source": [
    "toadd = kanye2test['text']\n",
    "toadd"
   ]
  },
  {
   "cell_type": "markdown",
   "metadata": {},
   "source": [
    "### Let's try TF-IDF"
   ]
  },
  {
   "cell_type": "code",
   "execution_count": 57,
   "metadata": {},
   "outputs": [
    {
     "data": {
      "text/plain": [
       "0    RT @RealCandaceO: The mob is loud, but the maj...\n",
       "1    @kanyewest I miss the old Kanye. We want pre-nap!\n",
       "2    RT @MattsMentions: “I didn’t listen to Kanye’s...\n",
       "3    Honestly I fucks with Kanye’s style. Rich peop...\n",
       "4    @GOPChairwoman @realDonaldTrump \"I WILL NEVER ...\n",
       "Name: text, dtype: object"
      ]
     },
     "execution_count": 57,
     "metadata": {},
     "output_type": "execute_result"
    }
   ],
   "source": [
    "tfidf = text.append(toadd, ignore_index = True)\n",
    "tfidf.head()"
   ]
  },
  {
   "cell_type": "code",
   "execution_count": 58,
   "metadata": {},
   "outputs": [],
   "source": [
    "vect = TfidfVectorizer(stop_words='english')"
   ]
  },
  {
   "cell_type": "code",
   "execution_count": 59,
   "metadata": {},
   "outputs": [],
   "source": [
    "tf = pd.DataFrame(vect.fit_transform(tfidf).toarray(), columns=vect.get_feature_names())"
   ]
  },
  {
   "cell_type": "code",
   "execution_count": 60,
   "metadata": {
    "scrolled": true
   },
   "outputs": [
    {
     "data": {
      "text/html": [
       "<div>\n",
       "<style scoped>\n",
       "    .dataframe tbody tr th:only-of-type {\n",
       "        vertical-align: middle;\n",
       "    }\n",
       "\n",
       "    .dataframe tbody tr th {\n",
       "        vertical-align: top;\n",
       "    }\n",
       "\n",
       "    .dataframe thead th {\n",
       "        text-align: right;\n",
       "    }\n",
       "</style>\n",
       "<table border=\"1\" class=\"dataframe\">\n",
       "  <thead>\n",
       "    <tr style=\"text-align: right;\">\n",
       "      <th></th>\n",
       "      <th>0iou2pgxch</th>\n",
       "      <th>0jujild7px</th>\n",
       "      <th>100</th>\n",
       "      <th>1063atl</th>\n",
       "      <th>10s</th>\n",
       "      <th>11</th>\n",
       "      <th>12</th>\n",
       "      <th>135</th>\n",
       "      <th>148lqlf5ao</th>\n",
       "      <th>16</th>\n",
       "      <th>...</th>\n",
       "      <th>yo</th>\n",
       "      <th>yourmomresists</th>\n",
       "      <th>youtube</th>\n",
       "      <th>ywltohwavw</th>\n",
       "      <th>yxotobksfb</th>\n",
       "      <th>zahara</th>\n",
       "      <th>zmh9qhh6xk</th>\n",
       "      <th>znu3q5mi58</th>\n",
       "      <th>zth5gym7xn</th>\n",
       "      <th>zuqwdrzfdd</th>\n",
       "    </tr>\n",
       "  </thead>\n",
       "  <tbody>\n",
       "    <tr>\n",
       "      <th>0</th>\n",
       "      <td>0.0</td>\n",
       "      <td>0.0</td>\n",
       "      <td>0.0</td>\n",
       "      <td>0.0</td>\n",
       "      <td>0.0</td>\n",
       "      <td>0.0</td>\n",
       "      <td>0.0</td>\n",
       "      <td>0.0</td>\n",
       "      <td>0.00000</td>\n",
       "      <td>0.0</td>\n",
       "      <td>...</td>\n",
       "      <td>0.0</td>\n",
       "      <td>0.0</td>\n",
       "      <td>0.0</td>\n",
       "      <td>0.0</td>\n",
       "      <td>0.0</td>\n",
       "      <td>0.0</td>\n",
       "      <td>0.0</td>\n",
       "      <td>0.0</td>\n",
       "      <td>0.0</td>\n",
       "      <td>0.0</td>\n",
       "    </tr>\n",
       "    <tr>\n",
       "      <th>1</th>\n",
       "      <td>0.0</td>\n",
       "      <td>0.0</td>\n",
       "      <td>0.0</td>\n",
       "      <td>0.0</td>\n",
       "      <td>0.0</td>\n",
       "      <td>0.0</td>\n",
       "      <td>0.0</td>\n",
       "      <td>0.0</td>\n",
       "      <td>0.00000</td>\n",
       "      <td>0.0</td>\n",
       "      <td>...</td>\n",
       "      <td>0.0</td>\n",
       "      <td>0.0</td>\n",
       "      <td>0.0</td>\n",
       "      <td>0.0</td>\n",
       "      <td>0.0</td>\n",
       "      <td>0.0</td>\n",
       "      <td>0.0</td>\n",
       "      <td>0.0</td>\n",
       "      <td>0.0</td>\n",
       "      <td>0.0</td>\n",
       "    </tr>\n",
       "    <tr>\n",
       "      <th>2</th>\n",
       "      <td>0.0</td>\n",
       "      <td>0.0</td>\n",
       "      <td>0.0</td>\n",
       "      <td>0.0</td>\n",
       "      <td>0.0</td>\n",
       "      <td>0.0</td>\n",
       "      <td>0.0</td>\n",
       "      <td>0.0</td>\n",
       "      <td>0.00000</td>\n",
       "      <td>0.0</td>\n",
       "      <td>...</td>\n",
       "      <td>0.0</td>\n",
       "      <td>0.0</td>\n",
       "      <td>0.0</td>\n",
       "      <td>0.0</td>\n",
       "      <td>0.0</td>\n",
       "      <td>0.0</td>\n",
       "      <td>0.0</td>\n",
       "      <td>0.0</td>\n",
       "      <td>0.0</td>\n",
       "      <td>0.0</td>\n",
       "    </tr>\n",
       "    <tr>\n",
       "      <th>3</th>\n",
       "      <td>0.0</td>\n",
       "      <td>0.0</td>\n",
       "      <td>0.0</td>\n",
       "      <td>0.0</td>\n",
       "      <td>0.0</td>\n",
       "      <td>0.0</td>\n",
       "      <td>0.0</td>\n",
       "      <td>0.0</td>\n",
       "      <td>0.00000</td>\n",
       "      <td>0.0</td>\n",
       "      <td>...</td>\n",
       "      <td>0.0</td>\n",
       "      <td>0.0</td>\n",
       "      <td>0.0</td>\n",
       "      <td>0.0</td>\n",
       "      <td>0.0</td>\n",
       "      <td>0.0</td>\n",
       "      <td>0.0</td>\n",
       "      <td>0.0</td>\n",
       "      <td>0.0</td>\n",
       "      <td>0.0</td>\n",
       "    </tr>\n",
       "    <tr>\n",
       "      <th>4</th>\n",
       "      <td>0.0</td>\n",
       "      <td>0.0</td>\n",
       "      <td>0.0</td>\n",
       "      <td>0.0</td>\n",
       "      <td>0.0</td>\n",
       "      <td>0.0</td>\n",
       "      <td>0.0</td>\n",
       "      <td>0.0</td>\n",
       "      <td>0.45018</td>\n",
       "      <td>0.0</td>\n",
       "      <td>...</td>\n",
       "      <td>0.0</td>\n",
       "      <td>0.0</td>\n",
       "      <td>0.0</td>\n",
       "      <td>0.0</td>\n",
       "      <td>0.0</td>\n",
       "      <td>0.0</td>\n",
       "      <td>0.0</td>\n",
       "      <td>0.0</td>\n",
       "      <td>0.0</td>\n",
       "      <td>0.0</td>\n",
       "    </tr>\n",
       "  </tbody>\n",
       "</table>\n",
       "<p>5 rows × 1093 columns</p>\n",
       "</div>"
      ],
      "text/plain": [
       "   0iou2pgxch  0jujild7px  100  1063atl  10s   11   12  135  148lqlf5ao   16  \\\n",
       "0         0.0         0.0  0.0      0.0  0.0  0.0  0.0  0.0     0.00000  0.0   \n",
       "1         0.0         0.0  0.0      0.0  0.0  0.0  0.0  0.0     0.00000  0.0   \n",
       "2         0.0         0.0  0.0      0.0  0.0  0.0  0.0  0.0     0.00000  0.0   \n",
       "3         0.0         0.0  0.0      0.0  0.0  0.0  0.0  0.0     0.00000  0.0   \n",
       "4         0.0         0.0  0.0      0.0  0.0  0.0  0.0  0.0     0.45018  0.0   \n",
       "\n",
       "      ...       yo  yourmomresists  youtube  ywltohwavw  yxotobksfb  zahara  \\\n",
       "0     ...      0.0             0.0      0.0         0.0         0.0     0.0   \n",
       "1     ...      0.0             0.0      0.0         0.0         0.0     0.0   \n",
       "2     ...      0.0             0.0      0.0         0.0         0.0     0.0   \n",
       "3     ...      0.0             0.0      0.0         0.0         0.0     0.0   \n",
       "4     ...      0.0             0.0      0.0         0.0         0.0     0.0   \n",
       "\n",
       "   zmh9qhh6xk  znu3q5mi58  zth5gym7xn  zuqwdrzfdd  \n",
       "0         0.0         0.0         0.0         0.0  \n",
       "1         0.0         0.0         0.0         0.0  \n",
       "2         0.0         0.0         0.0         0.0  \n",
       "3         0.0         0.0         0.0         0.0  \n",
       "4         0.0         0.0         0.0         0.0  \n",
       "\n",
       "[5 rows x 1093 columns]"
      ]
     },
     "execution_count": 60,
     "metadata": {},
     "output_type": "execute_result"
    }
   ],
   "source": [
    "tf.head()"
   ]
  },
  {
   "cell_type": "code",
   "execution_count": 61,
   "metadata": {},
   "outputs": [
    {
     "name": "stdout",
     "output_type": "stream",
     "text": [
      "<class 'pandas.core.frame.DataFrame'>\n",
      "RangeIndex: 445 entries, 0 to 444\n",
      "Columns: 1093 entries, 0iou2pgxch to zuqwdrzfdd\n",
      "dtypes: float64(1093)\n",
      "memory usage: 3.7 MB\n"
     ]
    }
   ],
   "source": [
    "tf.info()"
   ]
  },
  {
   "cell_type": "code",
   "execution_count": 62,
   "metadata": {
    "scrolled": true
   },
   "outputs": [
    {
     "data": {
      "text/html": [
       "<div>\n",
       "<style scoped>\n",
       "    .dataframe tbody tr th:only-of-type {\n",
       "        vertical-align: middle;\n",
       "    }\n",
       "\n",
       "    .dataframe tbody tr th {\n",
       "        vertical-align: top;\n",
       "    }\n",
       "\n",
       "    .dataframe thead th {\n",
       "        text-align: right;\n",
       "    }\n",
       "</style>\n",
       "<table border=\"1\" class=\"dataframe\">\n",
       "  <thead>\n",
       "    <tr style=\"text-align: right;\">\n",
       "      <th></th>\n",
       "      <th>label</th>\n",
       "    </tr>\n",
       "  </thead>\n",
       "  <tbody>\n",
       "    <tr>\n",
       "      <th>0</th>\n",
       "      <td>0.0</td>\n",
       "    </tr>\n",
       "    <tr>\n",
       "      <th>1</th>\n",
       "      <td>0.0</td>\n",
       "    </tr>\n",
       "    <tr>\n",
       "      <th>2</th>\n",
       "      <td>0.0</td>\n",
       "    </tr>\n",
       "    <tr>\n",
       "      <th>3</th>\n",
       "      <td>0.0</td>\n",
       "    </tr>\n",
       "    <tr>\n",
       "      <th>4</th>\n",
       "      <td>0.0</td>\n",
       "    </tr>\n",
       "  </tbody>\n",
       "</table>\n",
       "</div>"
      ],
      "text/plain": [
       "   label\n",
       "0    0.0\n",
       "1    0.0\n",
       "2    0.0\n",
       "3    0.0\n",
       "4    0.0"
      ]
     },
     "execution_count": 62,
     "metadata": {},
     "output_type": "execute_result"
    }
   ],
   "source": [
    "reset = kanye2train['label'].reset_index()\n",
    "del reset ['index']\n",
    "reset.head()"
   ]
  },
  {
   "cell_type": "code",
   "execution_count": 63,
   "metadata": {
    "scrolled": true
   },
   "outputs": [
    {
     "data": {
      "text/plain": [
       "369    1.0\n",
       "370    NaN\n",
       "371    NaN\n",
       "372    NaN\n",
       "373    NaN\n",
       "Name: label, dtype: float64"
      ]
     },
     "execution_count": 63,
     "metadata": {},
     "output_type": "execute_result"
    }
   ],
   "source": [
    "kanye = pd.concat([tf,reset], axis = 1,ignore_index= False)\n",
    "kanye['label'][369:].head()"
   ]
  },
  {
   "cell_type": "code",
   "execution_count": 64,
   "metadata": {},
   "outputs": [],
   "source": [
    "edittrain = kanye[:370]\n",
    "edittest = kanye[370:]\n",
    "droplabel = edittest.drop('label', axis = 1)"
   ]
  },
  {
   "cell_type": "code",
   "execution_count": 65,
   "metadata": {},
   "outputs": [
    {
     "name": "stdout",
     "output_type": "stream",
     "text": [
      "<class 'pandas.core.frame.DataFrame'>\n",
      "RangeIndex: 370 entries, 0 to 369\n",
      "Columns: 1094 entries, 0iou2pgxch to label\n",
      "dtypes: float64(1094)\n",
      "memory usage: 3.1 MB\n"
     ]
    }
   ],
   "source": [
    "edittrain.info()"
   ]
  },
  {
   "cell_type": "code",
   "execution_count": 66,
   "metadata": {},
   "outputs": [
    {
     "name": "stdout",
     "output_type": "stream",
     "text": [
      "<class 'pandas.core.frame.DataFrame'>\n",
      "RangeIndex: 75 entries, 370 to 444\n",
      "Columns: 1094 entries, 0iou2pgxch to label\n",
      "dtypes: float64(1094)\n",
      "memory usage: 641.1 KB\n"
     ]
    }
   ],
   "source": [
    "edittest.info()"
   ]
  },
  {
   "cell_type": "code",
   "execution_count": 67,
   "metadata": {},
   "outputs": [],
   "source": [
    "x = edittrain.drop('label', axis = 1)\n",
    "y = edittrain['label']"
   ]
  },
  {
   "cell_type": "code",
   "execution_count": 68,
   "metadata": {},
   "outputs": [],
   "source": [
    "xtrain, xtest, ytrain, ytest = tts(x,y, random_state = 0)"
   ]
  },
  {
   "cell_type": "code",
   "execution_count": 69,
   "metadata": {},
   "outputs": [],
   "source": [
    "l = LogisticRegression()\n",
    "d = DecisionTreeClassifier()\n",
    "r = RandomForestClassifier()\n",
    "g = GradientBoostingClassifier()\n",
    "k = KNeighborsClassifier()\n",
    "nb = MultinomialNB()\n",
    "vc = VotingClassifier(estimators = [('l',l),('d',d),('r',r),('g',g),('k',k),('nb',nb)],\n",
    "                      voting = 'hard', n_jobs = 5)"
   ]
  },
  {
   "cell_type": "code",
   "execution_count": 70,
   "metadata": {},
   "outputs": [],
   "source": [
    "def classifier(ye):\n",
    "    print(ye)\n",
    "    clf = ye.fit(xtrain,ytrain)\n",
    "    clf.predict(droplabel)\n",
    "    print('Accuracy of train: ', ye.score(xtrain,ytrain))\n",
    "    print('Accuracy of test: ', ye.score(xtest,ytest))\n",
    "    score = cvs(ye,xtest,ytest,cv=5, scoring='accuracy')\n",
    "    print('cross val score: ', score.mean())"
   ]
  },
  {
   "cell_type": "code",
   "execution_count": 71,
   "metadata": {
    "scrolled": true
   },
   "outputs": [
    {
     "name": "stdout",
     "output_type": "stream",
     "text": [
      "LogisticRegression(C=1.0, class_weight=None, dual=False, fit_intercept=True,\n",
      "          intercept_scaling=1, max_iter=100, multi_class='ovr', n_jobs=1,\n",
      "          penalty='l2', random_state=None, solver='liblinear', tol=0.0001,\n",
      "          verbose=0, warm_start=False)\n",
      "Accuracy of train:  0.9711191335740073\n",
      "Accuracy of test:  0.8709677419354839\n",
      "cross val score:  0.8070175438596492\n"
     ]
    }
   ],
   "source": [
    "classifier(LogisticRegression())"
   ]
  },
  {
   "cell_type": "code",
   "execution_count": 72,
   "metadata": {},
   "outputs": [
    {
     "name": "stdout",
     "output_type": "stream",
     "text": [
      "DecisionTreeClassifier(class_weight=None, criterion='gini', max_depth=None,\n",
      "            max_features=None, max_leaf_nodes=None,\n",
      "            min_impurity_decrease=0.0, min_impurity_split=None,\n",
      "            min_samples_leaf=1, min_samples_split=2,\n",
      "            min_weight_fraction_leaf=0.0, presort=False, random_state=None,\n",
      "            splitter='best')\n",
      "Accuracy of train:  1.0\n",
      "Accuracy of test:  0.8387096774193549\n",
      "cross val score:  0.7631578947368421\n"
     ]
    }
   ],
   "source": [
    "classifier(DecisionTreeClassifier())"
   ]
  },
  {
   "cell_type": "code",
   "execution_count": 73,
   "metadata": {},
   "outputs": [
    {
     "name": "stdout",
     "output_type": "stream",
     "text": [
      "RandomForestClassifier(bootstrap=True, class_weight=None, criterion='gini',\n",
      "            max_depth=None, max_features='auto', max_leaf_nodes=None,\n",
      "            min_impurity_decrease=0.0, min_impurity_split=None,\n",
      "            min_samples_leaf=1, min_samples_split=2,\n",
      "            min_weight_fraction_leaf=0.0, n_estimators=10, n_jobs=1,\n",
      "            oob_score=False, random_state=None, verbose=0,\n",
      "            warm_start=False)\n",
      "Accuracy of train:  0.9963898916967509\n",
      "Accuracy of test:  0.8709677419354839\n",
      "cross val score:  0.7637426900584796\n"
     ]
    }
   ],
   "source": [
    "classifier(RandomForestClassifier())"
   ]
  },
  {
   "cell_type": "code",
   "execution_count": 74,
   "metadata": {},
   "outputs": [
    {
     "name": "stdout",
     "output_type": "stream",
     "text": [
      "GradientBoostingClassifier(criterion='friedman_mse', init=None,\n",
      "              learning_rate=0.1, loss='deviance', max_depth=3,\n",
      "              max_features=None, max_leaf_nodes=None,\n",
      "              min_impurity_decrease=0.0, min_impurity_split=None,\n",
      "              min_samples_leaf=1, min_samples_split=2,\n",
      "              min_weight_fraction_leaf=0.0, n_estimators=100,\n",
      "              presort='auto', random_state=None, subsample=1.0, verbose=0,\n",
      "              warm_start=False)\n",
      "Accuracy of train:  1.0\n",
      "Accuracy of test:  0.8602150537634409\n",
      "cross val score:  0.7526315789473685\n"
     ]
    }
   ],
   "source": [
    "classifier(GradientBoostingClassifier())"
   ]
  },
  {
   "cell_type": "code",
   "execution_count": 75,
   "metadata": {},
   "outputs": [
    {
     "name": "stdout",
     "output_type": "stream",
     "text": [
      "KNeighborsClassifier(algorithm='auto', leaf_size=30, metric='minkowski',\n",
      "           metric_params=None, n_jobs=1, n_neighbors=5, p=2,\n",
      "           weights='uniform')\n",
      "Accuracy of train:  0.924187725631769\n",
      "Accuracy of test:  0.9032258064516129\n",
      "cross val score:  0.828654970760234\n"
     ]
    }
   ],
   "source": [
    "classifier(KNeighborsClassifier())"
   ]
  },
  {
   "cell_type": "code",
   "execution_count": 76,
   "metadata": {},
   "outputs": [
    {
     "name": "stdout",
     "output_type": "stream",
     "text": [
      "MultinomialNB(alpha=1.0, class_prior=None, fit_prior=True)\n",
      "Accuracy of train:  0.9855595667870036\n",
      "Accuracy of test:  0.8709677419354839\n",
      "cross val score:  0.8502923976608188\n"
     ]
    }
   ],
   "source": [
    "classifier(MultinomialNB())"
   ]
  },
  {
   "cell_type": "code",
   "execution_count": 77,
   "metadata": {},
   "outputs": [
    {
     "name": "stdout",
     "output_type": "stream",
     "text": [
      "VotingClassifier(estimators=[('l', LogisticRegression(C=1.0, class_weight=None, dual=False, fit_intercept=True,\n",
      "          intercept_scaling=1, max_iter=100, multi_class='ovr', n_jobs=1,\n",
      "          penalty='l2', random_state=None, solver='liblinear', tol=0.0001,\n",
      "          verbose=0, warm_start=False)), ('d', DecisionT...\n",
      "           weights='uniform')), ('nb', MultinomialNB(alpha=1.0, class_prior=None, fit_prior=True))],\n",
      "         flatten_transform=None, n_jobs=5, voting='hard', weights=None)\n"
     ]
    },
    {
     "name": "stderr",
     "output_type": "stream",
     "text": [
      "/Users/jedvillareal/anaconda3/envs/ipykernel_py3/lib/python3.6/site-packages/sklearn/preprocessing/label.py:151: DeprecationWarning: The truth value of an empty array is ambiguous. Returning False, but in future this will result in an error. Use `array.size > 0` to check that an array is not empty.\n",
      "  if diff:\n",
      "/Users/jedvillareal/anaconda3/envs/ipykernel_py3/lib/python3.6/site-packages/sklearn/preprocessing/label.py:151: DeprecationWarning: The truth value of an empty array is ambiguous. Returning False, but in future this will result in an error. Use `array.size > 0` to check that an array is not empty.\n",
      "  if diff:\n"
     ]
    },
    {
     "name": "stdout",
     "output_type": "stream",
     "text": [
      "Accuracy of train:  1.0\n",
      "Accuracy of test:  0.8602150537634409\n"
     ]
    },
    {
     "name": "stderr",
     "output_type": "stream",
     "text": [
      "/Users/jedvillareal/anaconda3/envs/ipykernel_py3/lib/python3.6/site-packages/sklearn/preprocessing/label.py:151: DeprecationWarning: The truth value of an empty array is ambiguous. Returning False, but in future this will result in an error. Use `array.size > 0` to check that an array is not empty.\n",
      "  if diff:\n",
      "/Users/jedvillareal/anaconda3/envs/ipykernel_py3/lib/python3.6/site-packages/sklearn/preprocessing/label.py:151: DeprecationWarning: The truth value of an empty array is ambiguous. Returning False, but in future this will result in an error. Use `array.size > 0` to check that an array is not empty.\n",
      "  if diff:\n",
      "/Users/jedvillareal/anaconda3/envs/ipykernel_py3/lib/python3.6/site-packages/sklearn/preprocessing/label.py:151: DeprecationWarning: The truth value of an empty array is ambiguous. Returning False, but in future this will result in an error. Use `array.size > 0` to check that an array is not empty.\n",
      "  if diff:\n",
      "/Users/jedvillareal/anaconda3/envs/ipykernel_py3/lib/python3.6/site-packages/sklearn/preprocessing/label.py:151: DeprecationWarning: The truth value of an empty array is ambiguous. Returning False, but in future this will result in an error. Use `array.size > 0` to check that an array is not empty.\n",
      "  if diff:\n",
      "/Users/jedvillareal/anaconda3/envs/ipykernel_py3/lib/python3.6/site-packages/sklearn/preprocessing/label.py:151: DeprecationWarning: The truth value of an empty array is ambiguous. Returning False, but in future this will result in an error. Use `array.size > 0` to check that an array is not empty.\n",
      "  if diff:\n"
     ]
    },
    {
     "name": "stdout",
     "output_type": "stream",
     "text": [
      "cross val score:  0.7748538011695907\n"
     ]
    },
    {
     "name": "stderr",
     "output_type": "stream",
     "text": [
      "/Users/jedvillareal/anaconda3/envs/ipykernel_py3/lib/python3.6/site-packages/sklearn/preprocessing/label.py:151: DeprecationWarning: The truth value of an empty array is ambiguous. Returning False, but in future this will result in an error. Use `array.size > 0` to check that an array is not empty.\n",
      "  if diff:\n"
     ]
    }
   ],
   "source": [
    "classifier(vc)"
   ]
  },
  {
   "cell_type": "markdown",
   "metadata": {},
   "source": [
    "#### Extracting Ypred"
   ]
  },
  {
   "cell_type": "code",
   "execution_count": 78,
   "metadata": {},
   "outputs": [
    {
     "data": {
      "text/plain": [
       "array([1., 1., 1., 1., 1., 1., 0., 1., 1., 0., 1., 1., 1., 0., 1., 1., 1.,\n",
       "       1., 1., 1., 1., 0., 0., 1., 1., 1., 0., 1., 1., 1., 1., 1., 1., 1.,\n",
       "       1., 1., 1., 1., 1., 0., 1., 1., 1., 1., 1., 0., 1., 0., 1., 1., 1.,\n",
       "       1., 1., 1., 1., 1., 1., 1., 1., 1., 1., 1., 1., 1., 0., 1., 1., 1.,\n",
       "       1., 1., 1., 1., 1., 1., 1.])"
      ]
     },
     "execution_count": 78,
     "metadata": {},
     "output_type": "execute_result"
    }
   ],
   "source": [
    "knn = kn.fit(xtrain,ytrain)\n",
    "ypred = kn.predict(droplabel)\n",
    "ypred"
   ]
  },
  {
   "cell_type": "code",
   "execution_count": 79,
   "metadata": {},
   "outputs": [
    {
     "data": {
      "text/plain": [
       "75"
      ]
     },
     "execution_count": 79,
     "metadata": {},
     "output_type": "execute_result"
    }
   ],
   "source": [
    "len(ypred)"
   ]
  },
  {
   "cell_type": "code",
   "execution_count": 80,
   "metadata": {},
   "outputs": [
    {
     "data": {
      "text/plain": [
       "75"
      ]
     },
     "execution_count": 80,
     "metadata": {},
     "output_type": "execute_result"
    }
   ],
   "source": [
    "len(toadd)"
   ]
  },
  {
   "cell_type": "code",
   "execution_count": 81,
   "metadata": {},
   "outputs": [],
   "source": [
    "results = pd.DataFrame(columns=['text','label'])\n",
    "results['text'] = toadd\n",
    "results['label'] = ypred\n",
    "results.to_csv('kanye.csv')"
   ]
  },
  {
   "cell_type": "code",
   "execution_count": null,
   "metadata": {},
   "outputs": [],
   "source": []
  }
 ],
 "metadata": {
  "kernelspec": {
   "display_name": "Python 3",
   "language": "python",
   "name": "python3"
  },
  "language_info": {
   "codemirror_mode": {
    "name": "ipython",
    "version": 3
   },
   "file_extension": ".py",
   "mimetype": "text/x-python",
   "name": "python",
   "nbconvert_exporter": "python",
   "pygments_lexer": "ipython3",
   "version": "3.6.5"
  }
 },
 "nbformat": 4,
 "nbformat_minor": 2
}
