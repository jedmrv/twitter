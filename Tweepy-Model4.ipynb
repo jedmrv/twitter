{
 "cells": [
  {
   "cell_type": "markdown",
   "metadata": {},
   "source": [
    "### Import libraries"
   ]
  },
  {
   "cell_type": "markdown",
   "metadata": {},
   "source": [
    "#### Run the same model and add the correctly labeled tweets based on the prediction on the fourth model\n",
    "- I used KNN to predict the fourth model. Out of the 75 test data, 43 were correct ~ 57%."
   ]
  },
  {
   "cell_type": "code",
   "execution_count": 2,
   "metadata": {},
   "outputs": [
    {
     "name": "stderr",
     "output_type": "stream",
     "text": [
      "/Users/jedvillareal/anaconda3/envs/ipykernel_py3/lib/python3.6/site-packages/sklearn/cross_validation.py:41: DeprecationWarning: This module was deprecated in version 0.18 in favor of the model_selection module into which all the refactored classes and functions are moved. Also note that the interface of the new CV iterators are different from that of this module. This module will be removed in 0.20.\n",
      "  \"This module will be removed in 0.20.\", DeprecationWarning)\n"
     ]
    }
   ],
   "source": [
    "import numpy as np\n",
    "import pandas as pd\n",
    "import scipy as sp   \n",
    "from sklearn import metrics\n",
    "from textblob import TextBlob, Word\n",
    "from nltk.stem.snowball import SnowballStemmer\n",
    "%matplotlib inline\n",
    "\n",
    "from sklearn.feature_extraction.text import CountVectorizer, TfidfVectorizer\n",
    "\n",
    "from sklearn.cross_validation import train_test_split #how does this work?\n",
    "from sklearn.model_selection import train_test_split as tts\n",
    "\n",
    "from sklearn.ensemble import GradientBoostingClassifier\n",
    "from sklearn.linear_model import LogisticRegression\n",
    "from sklearn.tree import DecisionTreeClassifier\n",
    "from sklearn.ensemble import RandomForestClassifier , VotingClassifier\n",
    "from sklearn.neighbors import KNeighborsClassifier\n",
    "neighbors = 5\n",
    "from sklearn.naive_bayes import MultinomialNB\n",
    "from nltk.classify import NaiveBayesClassifier  #how does this work?\n",
    "\n",
    "from sklearn.model_selection import cross_val_score as cvs"
   ]
  },
  {
   "cell_type": "code",
   "execution_count": 51,
   "metadata": {},
   "outputs": [
    {
     "data": {
      "text/html": [
       "<div>\n",
       "<style scoped>\n",
       "    .dataframe tbody tr th:only-of-type {\n",
       "        vertical-align: middle;\n",
       "    }\n",
       "\n",
       "    .dataframe tbody tr th {\n",
       "        vertical-align: top;\n",
       "    }\n",
       "\n",
       "    .dataframe thead th {\n",
       "        text-align: right;\n",
       "    }\n",
       "</style>\n",
       "<table border=\"1\" class=\"dataframe\">\n",
       "  <thead>\n",
       "    <tr style=\"text-align: right;\">\n",
       "      <th></th>\n",
       "      <th>text</th>\n",
       "      <th>label</th>\n",
       "    </tr>\n",
       "  </thead>\n",
       "  <tbody>\n",
       "    <tr>\n",
       "      <th>0</th>\n",
       "      <td>RT @WSHHRAP: Rappers with the most Billboard H...</td>\n",
       "      <td>1.0</td>\n",
       "    </tr>\n",
       "    <tr>\n",
       "      <th>1</th>\n",
       "      <td>Kanye and Cudi merge, together they rule as Kanye</td>\n",
       "      <td>1.0</td>\n",
       "    </tr>\n",
       "    <tr>\n",
       "      <th>2</th>\n",
       "      <td>RT @RappersSaid: Rappers with the most Billboa...</td>\n",
       "      <td>1.0</td>\n",
       "    </tr>\n",
       "    <tr>\n",
       "      <th>3</th>\n",
       "      <td>RT @c_drew_: Kanye shaped like he played barit...</td>\n",
       "      <td>1.0</td>\n",
       "    </tr>\n",
       "    <tr>\n",
       "      <th>4</th>\n",
       "      <td>RT @Bubbabue: @kanyewest Your album #ye is an ...</td>\n",
       "      <td>1.0</td>\n",
       "    </tr>\n",
       "  </tbody>\n",
       "</table>\n",
       "</div>"
      ],
      "text/plain": [
       "                                                text  label\n",
       "0  RT @WSHHRAP: Rappers with the most Billboard H...    1.0\n",
       "1  Kanye and Cudi merge, together they rule as Kanye    1.0\n",
       "2  RT @RappersSaid: Rappers with the most Billboa...    1.0\n",
       "3  RT @c_drew_: Kanye shaped like he played barit...    1.0\n",
       "4  RT @Bubbabue: @kanyewest Your album #ye is an ...    1.0"
      ]
     },
     "execution_count": 51,
     "metadata": {},
     "output_type": "execute_result"
    }
   ],
   "source": [
    "kanye2 = pd.read_csv('kanyewest4.csv')\n",
    "kanye2.head()"
   ]
  },
  {
   "cell_type": "code",
   "execution_count": 52,
   "metadata": {},
   "outputs": [
    {
     "name": "stdout",
     "output_type": "stream",
     "text": [
      "<class 'pandas.core.frame.DataFrame'>\n",
      "RangeIndex: 2064 entries, 0 to 2063\n",
      "Data columns (total 2 columns):\n",
      "text     2064 non-null object\n",
      "label    589 non-null float64\n",
      "dtypes: float64(1), object(1)\n",
      "memory usage: 32.3+ KB\n"
     ]
    }
   ],
   "source": [
    "kanye2.info()"
   ]
  },
  {
   "cell_type": "code",
   "execution_count": 56,
   "metadata": {
    "scrolled": true
   },
   "outputs": [
    {
     "data": {
      "text/html": [
       "<div>\n",
       "<style scoped>\n",
       "    .dataframe tbody tr th:only-of-type {\n",
       "        vertical-align: middle;\n",
       "    }\n",
       "\n",
       "    .dataframe tbody tr th {\n",
       "        vertical-align: top;\n",
       "    }\n",
       "\n",
       "    .dataframe thead th {\n",
       "        text-align: right;\n",
       "    }\n",
       "</style>\n",
       "<table border=\"1\" class=\"dataframe\">\n",
       "  <thead>\n",
       "    <tr style=\"text-align: right;\">\n",
       "      <th></th>\n",
       "      <th>index</th>\n",
       "      <th>text</th>\n",
       "      <th>label</th>\n",
       "    </tr>\n",
       "  </thead>\n",
       "  <tbody>\n",
       "    <tr>\n",
       "      <th>588</th>\n",
       "      <td>588</td>\n",
       "      <td>RT @mastaace: Nobody. https://t.co/QUofmPdi5P</td>\n",
       "      <td>1.0</td>\n",
       "    </tr>\n",
       "    <tr>\n",
       "      <th>589</th>\n",
       "      <td>589</td>\n",
       "      <td>I need someone who can edit to put Bebe Zahara...</td>\n",
       "      <td>NaN</td>\n",
       "    </tr>\n",
       "    <tr>\n",
       "      <th>590</th>\n",
       "      <td>590</td>\n",
       "      <td>@BHOPDaMaestro by Lil Baby ft. Drake &amp;amp; Kan...</td>\n",
       "      <td>NaN</td>\n",
       "    </tr>\n",
       "    <tr>\n",
       "      <th>591</th>\n",
       "      <td>591</td>\n",
       "      <td>I’ve never heard Kanye West talk until celebri...</td>\n",
       "      <td>NaN</td>\n",
       "    </tr>\n",
       "    <tr>\n",
       "      <th>592</th>\n",
       "      <td>592</td>\n",
       "      <td>Someone stop this guy https://t.co/bEXdtJViQR</td>\n",
       "      <td>NaN</td>\n",
       "    </tr>\n",
       "  </tbody>\n",
       "</table>\n",
       "</div>"
      ],
      "text/plain": [
       "     index                                               text  label\n",
       "588    588      RT @mastaace: Nobody. https://t.co/QUofmPdi5P    1.0\n",
       "589    589  I need someone who can edit to put Bebe Zahara...    NaN\n",
       "590    590  @BHOPDaMaestro by Lil Baby ft. Drake &amp; Kan...    NaN\n",
       "591    591  I’ve never heard Kanye West talk until celebri...    NaN\n",
       "592    592      Someone stop this guy https://t.co/bEXdtJViQR    NaN"
      ]
     },
     "execution_count": 56,
     "metadata": {},
     "output_type": "execute_result"
    }
   ],
   "source": [
    "df = kanye2.sort_values(by = 'label', ascending=True)\n",
    "df1 = df.reset_index()\n",
    "df1[588:].head()"
   ]
  },
  {
   "cell_type": "code",
   "execution_count": 57,
   "metadata": {},
   "outputs": [
    {
     "name": "stdout",
     "output_type": "stream",
     "text": [
      "<class 'pandas.core.frame.DataFrame'>\n",
      "Int64Index: 589 entries, 0 to 588\n",
      "Data columns (total 3 columns):\n",
      "index    589 non-null int64\n",
      "text     589 non-null object\n",
      "label    589 non-null float64\n",
      "dtypes: float64(1), int64(1), object(1)\n",
      "memory usage: 18.4+ KB\n"
     ]
    }
   ],
   "source": [
    "kanye2train = df1[(df1['label'] ==0)|(df1['label']==1)]\n",
    "kanye2train.info()"
   ]
  },
  {
   "cell_type": "code",
   "execution_count": 58,
   "metadata": {},
   "outputs": [
    {
     "data": {
      "text/html": [
       "<div>\n",
       "<style scoped>\n",
       "    .dataframe tbody tr th:only-of-type {\n",
       "        vertical-align: middle;\n",
       "    }\n",
       "\n",
       "    .dataframe tbody tr th {\n",
       "        vertical-align: top;\n",
       "    }\n",
       "\n",
       "    .dataframe thead th {\n",
       "        text-align: right;\n",
       "    }\n",
       "</style>\n",
       "<table border=\"1\" class=\"dataframe\">\n",
       "  <thead>\n",
       "    <tr style=\"text-align: right;\">\n",
       "      <th></th>\n",
       "      <th>index</th>\n",
       "      <th>text</th>\n",
       "      <th>label</th>\n",
       "    </tr>\n",
       "  </thead>\n",
       "  <tbody>\n",
       "    <tr>\n",
       "      <th>0</th>\n",
       "      <td>190</td>\n",
       "      <td>Cudi's album would've way better if Kanye shut...</td>\n",
       "      <td>0.0</td>\n",
       "    </tr>\n",
       "    <tr>\n",
       "      <th>1</th>\n",
       "      <td>158</td>\n",
       "      <td>RT @Pink: Kanye west is the biggest piece of s...</td>\n",
       "      <td>0.0</td>\n",
       "    </tr>\n",
       "    <tr>\n",
       "      <th>2</th>\n",
       "      <td>159</td>\n",
       "      <td>RT @Pink: Kanye west is the biggest piece of s...</td>\n",
       "      <td>0.0</td>\n",
       "    </tr>\n",
       "    <tr>\n",
       "      <th>3</th>\n",
       "      <td>160</td>\n",
       "      <td>kanye west has lost his mind https://t.co/fnPQ...</td>\n",
       "      <td>0.0</td>\n",
       "    </tr>\n",
       "    <tr>\n",
       "      <th>4</th>\n",
       "      <td>161</td>\n",
       "      <td>RT @RealCandaceO: The mob is loud, but the maj...</td>\n",
       "      <td>0.0</td>\n",
       "    </tr>\n",
       "  </tbody>\n",
       "</table>\n",
       "</div>"
      ],
      "text/plain": [
       "   index                                               text  label\n",
       "0    190  Cudi's album would've way better if Kanye shut...    0.0\n",
       "1    158  RT @Pink: Kanye west is the biggest piece of s...    0.0\n",
       "2    159  RT @Pink: Kanye west is the biggest piece of s...    0.0\n",
       "3    160  kanye west has lost his mind https://t.co/fnPQ...    0.0\n",
       "4    161  RT @RealCandaceO: The mob is loud, but the maj...    0.0"
      ]
     },
     "execution_count": 58,
     "metadata": {},
     "output_type": "execute_result"
    }
   ],
   "source": [
    "kanye2train.head()"
   ]
  },
  {
   "cell_type": "code",
   "execution_count": 94,
   "metadata": {},
   "outputs": [
    {
     "name": "stdout",
     "output_type": "stream",
     "text": [
      "<class 'pandas.core.frame.DataFrame'>\n",
      "Int64Index: 75 entries, 664 to 738\n",
      "Data columns (total 3 columns):\n",
      "index    75 non-null int64\n",
      "text     75 non-null object\n",
      "label    0 non-null float64\n",
      "dtypes: float64(1), int64(1), object(1)\n",
      "memory usage: 2.3+ KB\n"
     ]
    }
   ],
   "source": [
    "kanye2test = df1[df1['label'].isnull()][75:150]\n",
    "kanye2test.info()"
   ]
  },
  {
   "cell_type": "code",
   "execution_count": 95,
   "metadata": {},
   "outputs": [
    {
     "data": {
      "text/html": [
       "<div>\n",
       "<style scoped>\n",
       "    .dataframe tbody tr th:only-of-type {\n",
       "        vertical-align: middle;\n",
       "    }\n",
       "\n",
       "    .dataframe tbody tr th {\n",
       "        vertical-align: top;\n",
       "    }\n",
       "\n",
       "    .dataframe thead th {\n",
       "        text-align: right;\n",
       "    }\n",
       "</style>\n",
       "<table border=\"1\" class=\"dataframe\">\n",
       "  <thead>\n",
       "    <tr style=\"text-align: right;\">\n",
       "      <th></th>\n",
       "      <th>index</th>\n",
       "      <th>text</th>\n",
       "      <th>label</th>\n",
       "    </tr>\n",
       "  </thead>\n",
       "  <tbody>\n",
       "    <tr>\n",
       "      <th>664</th>\n",
       "      <td>664</td>\n",
       "      <td>Cuz he’s an anti black dick head. Next. https:...</td>\n",
       "      <td>NaN</td>\n",
       "    </tr>\n",
       "    <tr>\n",
       "      <th>665</th>\n",
       "      <td>665</td>\n",
       "      <td>Demeter is rarely listening to Kanye West or l...</td>\n",
       "      <td>NaN</td>\n",
       "    </tr>\n",
       "    <tr>\n",
       "      <th>666</th>\n",
       "      <td>666</td>\n",
       "      <td>RT @BET: Is Kanye West canceled? Social media ...</td>\n",
       "      <td>NaN</td>\n",
       "    </tr>\n",
       "    <tr>\n",
       "      <th>667</th>\n",
       "      <td>667</td>\n",
       "      <td>@BigPatDidThat Talking about Kanye don’t go gh...</td>\n",
       "      <td>NaN</td>\n",
       "    </tr>\n",
       "    <tr>\n",
       "      <th>668</th>\n",
       "      <td>668</td>\n",
       "      <td>RT @stankymeat: kanye: aight cudi u ready to r...</td>\n",
       "      <td>NaN</td>\n",
       "    </tr>\n",
       "  </tbody>\n",
       "</table>\n",
       "</div>"
      ],
      "text/plain": [
       "     index                                               text  label\n",
       "664    664  Cuz he’s an anti black dick head. Next. https:...    NaN\n",
       "665    665  Demeter is rarely listening to Kanye West or l...    NaN\n",
       "666    666  RT @BET: Is Kanye West canceled? Social media ...    NaN\n",
       "667    667  @BigPatDidThat Talking about Kanye don’t go gh...    NaN\n",
       "668    668  RT @stankymeat: kanye: aight cudi u ready to r...    NaN"
      ]
     },
     "execution_count": 95,
     "metadata": {},
     "output_type": "execute_result"
    }
   ],
   "source": [
    "kanye2test.head()"
   ]
  },
  {
   "cell_type": "code",
   "execution_count": 96,
   "metadata": {},
   "outputs": [
    {
     "name": "stdout",
     "output_type": "stream",
     "text": [
      "<class 'pandas.core.series.Series'>\n"
     ]
    },
    {
     "data": {
      "text/plain": [
       "0    Cudi's album would've way better if Kanye shut...\n",
       "1    RT @Pink: Kanye west is the biggest piece of s...\n",
       "2    RT @Pink: Kanye west is the biggest piece of s...\n",
       "3    kanye west has lost his mind https://t.co/fnPQ...\n",
       "4    RT @RealCandaceO: The mob is loud, but the maj...\n",
       "Name: text, dtype: object"
      ]
     },
     "execution_count": 96,
     "metadata": {},
     "output_type": "execute_result"
    }
   ],
   "source": [
    "text = kanye2train['text']\n",
    "print(type(text))\n",
    "text.head()"
   ]
  },
  {
   "cell_type": "code",
   "execution_count": 97,
   "metadata": {
    "scrolled": true
   },
   "outputs": [
    {
     "data": {
      "text/plain": [
       "664    Cuz he’s an anti black dick head. Next. https:...\n",
       "665    Demeter is rarely listening to Kanye West or l...\n",
       "666    RT @BET: Is Kanye West canceled? Social media ...\n",
       "667    @BigPatDidThat Talking about Kanye don’t go gh...\n",
       "668    RT @stankymeat: kanye: aight cudi u ready to r...\n",
       "669    @oliverNOtwist JPrince did that to save your G...\n",
       "670    RT @nastytraka: @BigPatDidThat Talking about K...\n",
       "671    “Are you voting for Trump/Kanye in the 2020 pr...\n",
       "672    RT @TheFashionLaw: 21 rape allegations later, ...\n",
       "673    RT @FoxNews: Kanye West's 'Ye' hits No. 1 on B...\n",
       "674    @ibarguen @Joi @dkroy @knightfdn @BillClinton ...\n",
       "675    @Complex Don't u mean Drakes ghostwriter recei...\n",
       "676    RT @Masuta1019: And them hoes call... https://...\n",
       "677    @OzLady41563 @VancityReynolds There’s a differ...\n",
       "678        @jweibel24 Back when I thought Kanye was Kool\n",
       "679    @WashTimes @realDonaldTrump - Please pick Kany...\n",
       "680    RT @iamferd97: Man Chance dropped Acid Rap, Ky...\n",
       "681    RT @balmainbratz: see how Kanye’s leg resemble...\n",
       "682    Jay trying to bring the old Kanye back https:/...\n",
       "683    @karenhunter @kanyewest @HISTORY Let's let Kan...\n",
       "684    Did Kanye West Deserve the Hate?: https://t.co...\n",
       "685    15 minutes just about up huh? https://t.co/POv...\n",
       "686    I can’t believe someone like Kanye West has a ...\n",
       "687    RT @riplimewire: mfers on here be 32 years old...\n",
       "688    @bellyofthe Interesting attempt to deflect you...\n",
       "689    RT @JustinIvey_: I spoke to @dalocksmith about...\n",
       "690    Wells Fargo Bans Bitcoin Purchases with Credit...\n",
       "691    and ppl who still don't respect kanye will dis...\n",
       "692    @kanyewest Shut the fuck up kanye you should b...\n",
       "693    RT @SymoneDSanders: 15 minutes just about up h...\n",
       "                             ...                        \n",
       "709    RT @GLAMJAWN: RT if you see you're favorite ar...\n",
       "710    RT @Blitzz_Krieg: If I was rich I’d definitely...\n",
       "711    hear me out... Kanye West is a time traveler. ...\n",
       "712      “it’s spelled kanye, it’s pronounced yawn, k  ?\n",
       "713    RT @shadow_twts: Genius' Top Artists (May 2018...\n",
       "714    @kathleenelee @russ48239 @SayBiblePodcast @kan...\n",
       "715              And to Kanye West I understand ya now 💡\n",
       "716    We need you to take on @BetsyDeVosED and get r...\n",
       "717           Great article here https://t.co/2e9kFlwC9N\n",
       "718    When Kanye said “all these thots on Christian ...\n",
       "719    RT @StyleDetails: 10 Things Kanye West Wants K...\n",
       "720    RT @DJwoske: Kanye sef sabi good music but he ...\n",
       "721    Kanye posting a screenshot of the 7 deadly sin...\n",
       "722    @_vusachi some boy named devin. like he couldn...\n",
       "723    New Unused Adidas Yeezy Boost 350 V2 Cream Whi...\n",
       "724    Conservatives Turn on Candace Owens, Kanye Wes...\n",
       "725    Wasn’t this Bitch endorsed by Kanye??? https:/...\n",
       "726    RT @svnchez_: Can someone get this to Kanye? I...\n",
       "727    RT @russ48239: @kathleenelee @SayBiblePodcast ...\n",
       "728    Not even Crack Music? Lmao New Slaves? I’m jus...\n",
       "729    his face screams \"yeah this pussy worth all th...\n",
       "730    NEVER\\n Hendrix beans noel gallagher will die ...\n",
       "731    RT @leahh_16: I’m just going to say it, somebo...\n",
       "732    kanye as president would be a good meme. didnt...\n",
       "733    RT @freeblocc: My only lord and savior is Jesu...\n",
       "734    RT @KidCudi: Takashi u rule!! https://t.co/8bj...\n",
       "735    RT @HotNewHipHop: Drake is finally credited as...\n",
       "736    RT @07phill: Anyone ever notice that Kanye sin...\n",
       "737    I like to be optimistic about the younger gene...\n",
       "738    @svnchez_ @kanyewest This is way better then w...\n",
       "Name: text, Length: 75, dtype: object"
      ]
     },
     "execution_count": 97,
     "metadata": {},
     "output_type": "execute_result"
    }
   ],
   "source": [
    "toadd = kanye2test['text']\n",
    "toadd"
   ]
  },
  {
   "cell_type": "markdown",
   "metadata": {},
   "source": [
    "### Let's try TF-IDF"
   ]
  },
  {
   "cell_type": "code",
   "execution_count": 98,
   "metadata": {},
   "outputs": [
    {
     "data": {
      "text/plain": [
       "0    Cudi's album would've way better if Kanye shut...\n",
       "1    RT @Pink: Kanye west is the biggest piece of s...\n",
       "2    RT @Pink: Kanye west is the biggest piece of s...\n",
       "3    kanye west has lost his mind https://t.co/fnPQ...\n",
       "4    RT @RealCandaceO: The mob is loud, but the maj...\n",
       "Name: text, dtype: object"
      ]
     },
     "execution_count": 98,
     "metadata": {},
     "output_type": "execute_result"
    }
   ],
   "source": [
    "tfidf = text.append(toadd, ignore_index = True)\n",
    "tfidf.head()"
   ]
  },
  {
   "cell_type": "code",
   "execution_count": 99,
   "metadata": {},
   "outputs": [],
   "source": [
    "vect = TfidfVectorizer(stop_words='english')"
   ]
  },
  {
   "cell_type": "code",
   "execution_count": 100,
   "metadata": {},
   "outputs": [],
   "source": [
    "tf = pd.DataFrame(vect.fit_transform(tfidf).toarray(), columns=vect.get_feature_names())"
   ]
  },
  {
   "cell_type": "code",
   "execution_count": 101,
   "metadata": {
    "scrolled": true
   },
   "outputs": [
    {
     "data": {
      "text/html": [
       "<div>\n",
       "<style scoped>\n",
       "    .dataframe tbody tr th:only-of-type {\n",
       "        vertical-align: middle;\n",
       "    }\n",
       "\n",
       "    .dataframe tbody tr th {\n",
       "        vertical-align: top;\n",
       "    }\n",
       "\n",
       "    .dataframe thead th {\n",
       "        text-align: right;\n",
       "    }\n",
       "</style>\n",
       "<table border=\"1\" class=\"dataframe\">\n",
       "  <thead>\n",
       "    <tr style=\"text-align: right;\">\n",
       "      <th></th>\n",
       "      <th>00s</th>\n",
       "      <th>07phill</th>\n",
       "      <th>0jujild7px</th>\n",
       "      <th>10</th>\n",
       "      <th>100</th>\n",
       "      <th>1063atl</th>\n",
       "      <th>10s</th>\n",
       "      <th>11</th>\n",
       "      <th>12</th>\n",
       "      <th>135</th>\n",
       "      <th>...</th>\n",
       "      <th>yp6zcirlxq</th>\n",
       "      <th>ywltohwavw</th>\n",
       "      <th>yxotobksfb</th>\n",
       "      <th>z006mq9emd</th>\n",
       "      <th>zmh9qhh6xk</th>\n",
       "      <th>znu3q5mi58</th>\n",
       "      <th>zopzravtn7</th>\n",
       "      <th>zrhedjtc5k</th>\n",
       "      <th>zth5gym7xn</th>\n",
       "      <th>zuqwdrzfdd</th>\n",
       "    </tr>\n",
       "  </thead>\n",
       "  <tbody>\n",
       "    <tr>\n",
       "      <th>0</th>\n",
       "      <td>0.0</td>\n",
       "      <td>0.0</td>\n",
       "      <td>0.0</td>\n",
       "      <td>0.0</td>\n",
       "      <td>0.0</td>\n",
       "      <td>0.0</td>\n",
       "      <td>0.0</td>\n",
       "      <td>0.0</td>\n",
       "      <td>0.0</td>\n",
       "      <td>0.0</td>\n",
       "      <td>...</td>\n",
       "      <td>0.0</td>\n",
       "      <td>0.0</td>\n",
       "      <td>0.0</td>\n",
       "      <td>0.0</td>\n",
       "      <td>0.0</td>\n",
       "      <td>0.0</td>\n",
       "      <td>0.0</td>\n",
       "      <td>0.0</td>\n",
       "      <td>0.0</td>\n",
       "      <td>0.0</td>\n",
       "    </tr>\n",
       "    <tr>\n",
       "      <th>1</th>\n",
       "      <td>0.0</td>\n",
       "      <td>0.0</td>\n",
       "      <td>0.0</td>\n",
       "      <td>0.0</td>\n",
       "      <td>0.0</td>\n",
       "      <td>0.0</td>\n",
       "      <td>0.0</td>\n",
       "      <td>0.0</td>\n",
       "      <td>0.0</td>\n",
       "      <td>0.0</td>\n",
       "      <td>...</td>\n",
       "      <td>0.0</td>\n",
       "      <td>0.0</td>\n",
       "      <td>0.0</td>\n",
       "      <td>0.0</td>\n",
       "      <td>0.0</td>\n",
       "      <td>0.0</td>\n",
       "      <td>0.0</td>\n",
       "      <td>0.0</td>\n",
       "      <td>0.0</td>\n",
       "      <td>0.0</td>\n",
       "    </tr>\n",
       "    <tr>\n",
       "      <th>2</th>\n",
       "      <td>0.0</td>\n",
       "      <td>0.0</td>\n",
       "      <td>0.0</td>\n",
       "      <td>0.0</td>\n",
       "      <td>0.0</td>\n",
       "      <td>0.0</td>\n",
       "      <td>0.0</td>\n",
       "      <td>0.0</td>\n",
       "      <td>0.0</td>\n",
       "      <td>0.0</td>\n",
       "      <td>...</td>\n",
       "      <td>0.0</td>\n",
       "      <td>0.0</td>\n",
       "      <td>0.0</td>\n",
       "      <td>0.0</td>\n",
       "      <td>0.0</td>\n",
       "      <td>0.0</td>\n",
       "      <td>0.0</td>\n",
       "      <td>0.0</td>\n",
       "      <td>0.0</td>\n",
       "      <td>0.0</td>\n",
       "    </tr>\n",
       "    <tr>\n",
       "      <th>3</th>\n",
       "      <td>0.0</td>\n",
       "      <td>0.0</td>\n",
       "      <td>0.0</td>\n",
       "      <td>0.0</td>\n",
       "      <td>0.0</td>\n",
       "      <td>0.0</td>\n",
       "      <td>0.0</td>\n",
       "      <td>0.0</td>\n",
       "      <td>0.0</td>\n",
       "      <td>0.0</td>\n",
       "      <td>...</td>\n",
       "      <td>0.0</td>\n",
       "      <td>0.0</td>\n",
       "      <td>0.0</td>\n",
       "      <td>0.0</td>\n",
       "      <td>0.0</td>\n",
       "      <td>0.0</td>\n",
       "      <td>0.0</td>\n",
       "      <td>0.0</td>\n",
       "      <td>0.0</td>\n",
       "      <td>0.0</td>\n",
       "    </tr>\n",
       "    <tr>\n",
       "      <th>4</th>\n",
       "      <td>0.0</td>\n",
       "      <td>0.0</td>\n",
       "      <td>0.0</td>\n",
       "      <td>0.0</td>\n",
       "      <td>0.0</td>\n",
       "      <td>0.0</td>\n",
       "      <td>0.0</td>\n",
       "      <td>0.0</td>\n",
       "      <td>0.0</td>\n",
       "      <td>0.0</td>\n",
       "      <td>...</td>\n",
       "      <td>0.0</td>\n",
       "      <td>0.0</td>\n",
       "      <td>0.0</td>\n",
       "      <td>0.0</td>\n",
       "      <td>0.0</td>\n",
       "      <td>0.0</td>\n",
       "      <td>0.0</td>\n",
       "      <td>0.0</td>\n",
       "      <td>0.0</td>\n",
       "      <td>0.0</td>\n",
       "    </tr>\n",
       "  </tbody>\n",
       "</table>\n",
       "<p>5 rows × 1600 columns</p>\n",
       "</div>"
      ],
      "text/plain": [
       "   00s  07phill  0jujild7px   10  100  1063atl  10s   11   12  135  \\\n",
       "0  0.0      0.0         0.0  0.0  0.0      0.0  0.0  0.0  0.0  0.0   \n",
       "1  0.0      0.0         0.0  0.0  0.0      0.0  0.0  0.0  0.0  0.0   \n",
       "2  0.0      0.0         0.0  0.0  0.0      0.0  0.0  0.0  0.0  0.0   \n",
       "3  0.0      0.0         0.0  0.0  0.0      0.0  0.0  0.0  0.0  0.0   \n",
       "4  0.0      0.0         0.0  0.0  0.0      0.0  0.0  0.0  0.0  0.0   \n",
       "\n",
       "      ...      yp6zcirlxq  ywltohwavw  yxotobksfb  z006mq9emd  zmh9qhh6xk  \\\n",
       "0     ...             0.0         0.0         0.0         0.0         0.0   \n",
       "1     ...             0.0         0.0         0.0         0.0         0.0   \n",
       "2     ...             0.0         0.0         0.0         0.0         0.0   \n",
       "3     ...             0.0         0.0         0.0         0.0         0.0   \n",
       "4     ...             0.0         0.0         0.0         0.0         0.0   \n",
       "\n",
       "   znu3q5mi58  zopzravtn7  zrhedjtc5k  zth5gym7xn  zuqwdrzfdd  \n",
       "0         0.0         0.0         0.0         0.0         0.0  \n",
       "1         0.0         0.0         0.0         0.0         0.0  \n",
       "2         0.0         0.0         0.0         0.0         0.0  \n",
       "3         0.0         0.0         0.0         0.0         0.0  \n",
       "4         0.0         0.0         0.0         0.0         0.0  \n",
       "\n",
       "[5 rows x 1600 columns]"
      ]
     },
     "execution_count": 101,
     "metadata": {},
     "output_type": "execute_result"
    }
   ],
   "source": [
    "tf.head()"
   ]
  },
  {
   "cell_type": "code",
   "execution_count": 102,
   "metadata": {},
   "outputs": [
    {
     "name": "stdout",
     "output_type": "stream",
     "text": [
      "<class 'pandas.core.frame.DataFrame'>\n",
      "RangeIndex: 664 entries, 0 to 663\n",
      "Columns: 1600 entries, 00s to zuqwdrzfdd\n",
      "dtypes: float64(1600)\n",
      "memory usage: 8.1 MB\n"
     ]
    }
   ],
   "source": [
    "tf.info()"
   ]
  },
  {
   "cell_type": "code",
   "execution_count": 103,
   "metadata": {
    "scrolled": true
   },
   "outputs": [
    {
     "data": {
      "text/html": [
       "<div>\n",
       "<style scoped>\n",
       "    .dataframe tbody tr th:only-of-type {\n",
       "        vertical-align: middle;\n",
       "    }\n",
       "\n",
       "    .dataframe tbody tr th {\n",
       "        vertical-align: top;\n",
       "    }\n",
       "\n",
       "    .dataframe thead th {\n",
       "        text-align: right;\n",
       "    }\n",
       "</style>\n",
       "<table border=\"1\" class=\"dataframe\">\n",
       "  <thead>\n",
       "    <tr style=\"text-align: right;\">\n",
       "      <th></th>\n",
       "      <th>label</th>\n",
       "    </tr>\n",
       "  </thead>\n",
       "  <tbody>\n",
       "    <tr>\n",
       "      <th>0</th>\n",
       "      <td>0.0</td>\n",
       "    </tr>\n",
       "    <tr>\n",
       "      <th>1</th>\n",
       "      <td>0.0</td>\n",
       "    </tr>\n",
       "    <tr>\n",
       "      <th>2</th>\n",
       "      <td>0.0</td>\n",
       "    </tr>\n",
       "    <tr>\n",
       "      <th>3</th>\n",
       "      <td>0.0</td>\n",
       "    </tr>\n",
       "    <tr>\n",
       "      <th>4</th>\n",
       "      <td>0.0</td>\n",
       "    </tr>\n",
       "  </tbody>\n",
       "</table>\n",
       "</div>"
      ],
      "text/plain": [
       "   label\n",
       "0    0.0\n",
       "1    0.0\n",
       "2    0.0\n",
       "3    0.0\n",
       "4    0.0"
      ]
     },
     "execution_count": 103,
     "metadata": {},
     "output_type": "execute_result"
    }
   ],
   "source": [
    "reset = kanye2train['label'].reset_index()\n",
    "del reset ['index']\n",
    "reset.head()"
   ]
  },
  {
   "cell_type": "code",
   "execution_count": 104,
   "metadata": {
    "scrolled": true
   },
   "outputs": [
    {
     "data": {
      "text/plain": [
       "588    1.0\n",
       "589    NaN\n",
       "590    NaN\n",
       "591    NaN\n",
       "592    NaN\n",
       "Name: label, dtype: float64"
      ]
     },
     "execution_count": 104,
     "metadata": {},
     "output_type": "execute_result"
    }
   ],
   "source": [
    "kanye = pd.concat([tf,reset], axis = 1,ignore_index= False)\n",
    "kanye['label'][588:].head()"
   ]
  },
  {
   "cell_type": "code",
   "execution_count": 105,
   "metadata": {},
   "outputs": [],
   "source": [
    "edittrain = kanye[:589]\n",
    "edittest = kanye[589:]\n",
    "droplabel = edittest.drop('label', axis = 1)"
   ]
  },
  {
   "cell_type": "code",
   "execution_count": 106,
   "metadata": {},
   "outputs": [
    {
     "name": "stdout",
     "output_type": "stream",
     "text": [
      "<class 'pandas.core.frame.DataFrame'>\n",
      "RangeIndex: 589 entries, 0 to 588\n",
      "Columns: 1601 entries, 00s to label\n",
      "dtypes: float64(1601)\n",
      "memory usage: 7.2 MB\n"
     ]
    }
   ],
   "source": [
    "edittrain.info()"
   ]
  },
  {
   "cell_type": "code",
   "execution_count": 107,
   "metadata": {},
   "outputs": [
    {
     "name": "stdout",
     "output_type": "stream",
     "text": [
      "<class 'pandas.core.frame.DataFrame'>\n",
      "RangeIndex: 75 entries, 589 to 663\n",
      "Columns: 1601 entries, 00s to label\n",
      "dtypes: float64(1601)\n",
      "memory usage: 938.2 KB\n"
     ]
    }
   ],
   "source": [
    "edittest.info()"
   ]
  },
  {
   "cell_type": "code",
   "execution_count": 108,
   "metadata": {},
   "outputs": [],
   "source": [
    "x = edittrain.drop('label', axis = 1)\n",
    "y = edittrain['label']"
   ]
  },
  {
   "cell_type": "code",
   "execution_count": 109,
   "metadata": {},
   "outputs": [],
   "source": [
    "xtrain, xtest, ytrain, ytest = tts(x,y, random_state = 0)"
   ]
  },
  {
   "cell_type": "code",
   "execution_count": 110,
   "metadata": {},
   "outputs": [],
   "source": [
    "l = LogisticRegression()\n",
    "d = DecisionTreeClassifier()\n",
    "r = RandomForestClassifier()\n",
    "g = GradientBoostingClassifier()\n",
    "k = KNeighborsClassifier()\n",
    "nb = MultinomialNB()\n",
    "vc = VotingClassifier(estimators = [('l',l),('d',d),('r',r),('g',g),('k',k),('nb',nb)],\n",
    "                      voting = 'hard', n_jobs = 5)"
   ]
  },
  {
   "cell_type": "code",
   "execution_count": 111,
   "metadata": {},
   "outputs": [],
   "source": [
    "def classifier(ye):\n",
    "    print(ye)\n",
    "    clf = ye.fit(xtrain,ytrain)\n",
    "    clf.predict(droplabel)\n",
    "    print('Accuracy of train: ', ye.score(xtrain,ytrain))\n",
    "    print('Accuracy of test: ', ye.score(xtest,ytest))\n",
    "    score = cvs(ye,xtest,ytest,cv=5, scoring='accuracy')\n",
    "    print('cross val score: ', score.mean())"
   ]
  },
  {
   "cell_type": "code",
   "execution_count": 112,
   "metadata": {
    "scrolled": true
   },
   "outputs": [
    {
     "name": "stdout",
     "output_type": "stream",
     "text": [
      "LogisticRegression(C=1.0, class_weight=None, dual=False, fit_intercept=True,\n",
      "          intercept_scaling=1, max_iter=100, multi_class='ovr', n_jobs=1,\n",
      "          penalty='l2', random_state=None, solver='liblinear', tol=0.0001,\n",
      "          verbose=0, warm_start=False)\n",
      "Accuracy of train:  0.9002267573696145\n",
      "Accuracy of test:  0.8918918918918919\n",
      "cross val score:  0.8370114942528735\n"
     ]
    }
   ],
   "source": [
    "classifier(LogisticRegression())"
   ]
  },
  {
   "cell_type": "code",
   "execution_count": 113,
   "metadata": {},
   "outputs": [
    {
     "name": "stdout",
     "output_type": "stream",
     "text": [
      "DecisionTreeClassifier(class_weight=None, criterion='gini', max_depth=None,\n",
      "            max_features=None, max_leaf_nodes=None,\n",
      "            min_impurity_decrease=0.0, min_impurity_split=None,\n",
      "            min_samples_leaf=1, min_samples_split=2,\n",
      "            min_weight_fraction_leaf=0.0, presort=False, random_state=None,\n",
      "            splitter='best')\n",
      "Accuracy of train:  1.0\n",
      "Accuracy of test:  0.8918918918918919\n",
      "cross val score:  0.8436781609195402\n"
     ]
    }
   ],
   "source": [
    "classifier(DecisionTreeClassifier())"
   ]
  },
  {
   "cell_type": "code",
   "execution_count": 114,
   "metadata": {},
   "outputs": [
    {
     "name": "stdout",
     "output_type": "stream",
     "text": [
      "RandomForestClassifier(bootstrap=True, class_weight=None, criterion='gini',\n",
      "            max_depth=None, max_features='auto', max_leaf_nodes=None,\n",
      "            min_impurity_decrease=0.0, min_impurity_split=None,\n",
      "            min_samples_leaf=1, min_samples_split=2,\n",
      "            min_weight_fraction_leaf=0.0, n_estimators=10, n_jobs=1,\n",
      "            oob_score=False, random_state=None, verbose=0,\n",
      "            warm_start=False)\n",
      "Accuracy of train:  0.9909297052154195\n",
      "Accuracy of test:  0.9054054054054054\n",
      "cross val score:  0.8705747126436781\n"
     ]
    }
   ],
   "source": [
    "classifier(RandomForestClassifier())"
   ]
  },
  {
   "cell_type": "code",
   "execution_count": 115,
   "metadata": {},
   "outputs": [
    {
     "name": "stdout",
     "output_type": "stream",
     "text": [
      "GradientBoostingClassifier(criterion='friedman_mse', init=None,\n",
      "              learning_rate=0.1, loss='deviance', max_depth=3,\n",
      "              max_features=None, max_leaf_nodes=None,\n",
      "              min_impurity_decrease=0.0, min_impurity_split=None,\n",
      "              min_samples_leaf=1, min_samples_split=2,\n",
      "              min_weight_fraction_leaf=0.0, n_estimators=100,\n",
      "              presort='auto', random_state=None, subsample=1.0, verbose=0,\n",
      "              warm_start=False)\n",
      "Accuracy of train:  0.9795918367346939\n",
      "Accuracy of test:  0.9054054054054054\n",
      "cross val score:  0.8636781609195403\n"
     ]
    }
   ],
   "source": [
    "classifier(GradientBoostingClassifier())"
   ]
  },
  {
   "cell_type": "code",
   "execution_count": 116,
   "metadata": {},
   "outputs": [
    {
     "name": "stdout",
     "output_type": "stream",
     "text": [
      "KNeighborsClassifier(algorithm='auto', leaf_size=30, metric='minkowski',\n",
      "           metric_params=None, n_jobs=1, n_neighbors=5, p=2,\n",
      "           weights='uniform')\n",
      "Accuracy of train:  0.9342403628117913\n",
      "Accuracy of test:  0.9121621621621622\n",
      "cross val score:  0.8501149425287355\n"
     ]
    }
   ],
   "source": [
    "classifier(KNeighborsClassifier())"
   ]
  },
  {
   "cell_type": "code",
   "execution_count": 117,
   "metadata": {},
   "outputs": [
    {
     "name": "stdout",
     "output_type": "stream",
     "text": [
      "MultinomialNB(alpha=1.0, class_prior=None, fit_prior=True)\n",
      "Accuracy of train:  0.9750566893424036\n",
      "Accuracy of test:  0.9256756756756757\n",
      "cross val score:  0.8570114942528736\n"
     ]
    }
   ],
   "source": [
    "classifier(MultinomialNB())"
   ]
  },
  {
   "cell_type": "code",
   "execution_count": 118,
   "metadata": {},
   "outputs": [
    {
     "name": "stdout",
     "output_type": "stream",
     "text": [
      "VotingClassifier(estimators=[('l', LogisticRegression(C=1.0, class_weight=None, dual=False, fit_intercept=True,\n",
      "          intercept_scaling=1, max_iter=100, multi_class='ovr', n_jobs=1,\n",
      "          penalty='l2', random_state=None, solver='liblinear', tol=0.0001,\n",
      "          verbose=0, warm_start=False)), ('d', DecisionT...\n",
      "           weights='uniform')), ('nb', MultinomialNB(alpha=1.0, class_prior=None, fit_prior=True))],\n",
      "         flatten_transform=None, n_jobs=5, voting='hard', weights=None)\n"
     ]
    },
    {
     "name": "stderr",
     "output_type": "stream",
     "text": [
      "/Users/jedvillareal/anaconda3/envs/ipykernel_py3/lib/python3.6/site-packages/sklearn/preprocessing/label.py:151: DeprecationWarning: The truth value of an empty array is ambiguous. Returning False, but in future this will result in an error. Use `array.size > 0` to check that an array is not empty.\n",
      "  if diff:\n",
      "/Users/jedvillareal/anaconda3/envs/ipykernel_py3/lib/python3.6/site-packages/sklearn/preprocessing/label.py:151: DeprecationWarning: The truth value of an empty array is ambiguous. Returning False, but in future this will result in an error. Use `array.size > 0` to check that an array is not empty.\n",
      "  if diff:\n",
      "/Users/jedvillareal/anaconda3/envs/ipykernel_py3/lib/python3.6/site-packages/sklearn/preprocessing/label.py:151: DeprecationWarning: The truth value of an empty array is ambiguous. Returning False, but in future this will result in an error. Use `array.size > 0` to check that an array is not empty.\n",
      "  if diff:\n"
     ]
    },
    {
     "name": "stdout",
     "output_type": "stream",
     "text": [
      "Accuracy of train:  0.9931972789115646\n",
      "Accuracy of test:  0.9054054054054054\n"
     ]
    },
    {
     "name": "stderr",
     "output_type": "stream",
     "text": [
      "/Users/jedvillareal/anaconda3/envs/ipykernel_py3/lib/python3.6/site-packages/sklearn/preprocessing/label.py:151: DeprecationWarning: The truth value of an empty array is ambiguous. Returning False, but in future this will result in an error. Use `array.size > 0` to check that an array is not empty.\n",
      "  if diff:\n",
      "/Users/jedvillareal/anaconda3/envs/ipykernel_py3/lib/python3.6/site-packages/sklearn/preprocessing/label.py:151: DeprecationWarning: The truth value of an empty array is ambiguous. Returning False, but in future this will result in an error. Use `array.size > 0` to check that an array is not empty.\n",
      "  if diff:\n",
      "/Users/jedvillareal/anaconda3/envs/ipykernel_py3/lib/python3.6/site-packages/sklearn/preprocessing/label.py:151: DeprecationWarning: The truth value of an empty array is ambiguous. Returning False, but in future this will result in an error. Use `array.size > 0` to check that an array is not empty.\n",
      "  if diff:\n",
      "/Users/jedvillareal/anaconda3/envs/ipykernel_py3/lib/python3.6/site-packages/sklearn/preprocessing/label.py:151: DeprecationWarning: The truth value of an empty array is ambiguous. Returning False, but in future this will result in an error. Use `array.size > 0` to check that an array is not empty.\n",
      "  if diff:\n"
     ]
    },
    {
     "name": "stdout",
     "output_type": "stream",
     "text": [
      "cross val score:  0.8703448275862069\n"
     ]
    },
    {
     "name": "stderr",
     "output_type": "stream",
     "text": [
      "/Users/jedvillareal/anaconda3/envs/ipykernel_py3/lib/python3.6/site-packages/sklearn/preprocessing/label.py:151: DeprecationWarning: The truth value of an empty array is ambiguous. Returning False, but in future this will result in an error. Use `array.size > 0` to check that an array is not empty.\n",
      "  if diff:\n"
     ]
    }
   ],
   "source": [
    "classifier(vc)"
   ]
  },
  {
   "cell_type": "markdown",
   "metadata": {},
   "source": [
    "#### Extracting Ypred"
   ]
  },
  {
   "cell_type": "code",
   "execution_count": 128,
   "metadata": {},
   "outputs": [
    {
     "data": {
      "text/plain": [
       "array([1., 1., 1., 0., 0., 1., 0., 1., 1., 1., 1., 1., 1., 1., 1., 1., 1.,\n",
       "       1., 1., 1., 1., 1., 0., 1., 0., 0., 1., 1., 1., 1., 1., 1., 1., 1.,\n",
       "       1., 1., 1., 1., 1., 1., 0., 1., 1., 1., 1., 1., 1., 1., 1., 1., 1.,\n",
       "       1., 1., 1., 1., 0., 1., 0., 0., 1., 1., 1., 1., 1., 1., 0., 1., 0.,\n",
       "       1., 1., 1., 1., 1., 1., 0.])"
      ]
     },
     "execution_count": 128,
     "metadata": {},
     "output_type": "execute_result"
    }
   ],
   "source": [
    "knn = k.fit(xtrain,ytrain)\n",
    "ypred = knn.predict(droplabel)\n",
    "ypred"
   ]
  },
  {
   "cell_type": "code",
   "execution_count": 129,
   "metadata": {},
   "outputs": [
    {
     "data": {
      "text/plain": [
       "75"
      ]
     },
     "execution_count": 129,
     "metadata": {},
     "output_type": "execute_result"
    }
   ],
   "source": [
    "len(ypred)"
   ]
  },
  {
   "cell_type": "code",
   "execution_count": 130,
   "metadata": {},
   "outputs": [
    {
     "data": {
      "text/plain": [
       "75"
      ]
     },
     "execution_count": 130,
     "metadata": {},
     "output_type": "execute_result"
    }
   ],
   "source": [
    "len(toadd)"
   ]
  },
  {
   "cell_type": "code",
   "execution_count": 131,
   "metadata": {},
   "outputs": [],
   "source": [
    "results = pd.DataFrame(columns=['text','label'])\n",
    "results['text'] = toadd\n",
    "results['label'] = ypred\n",
    "results.to_csv('kanye.csv')"
   ]
  },
  {
   "cell_type": "code",
   "execution_count": null,
   "metadata": {},
   "outputs": [],
   "source": []
  }
 ],
 "metadata": {
  "kernelspec": {
   "display_name": "Python 3",
   "language": "python",
   "name": "python3"
  },
  "language_info": {
   "codemirror_mode": {
    "name": "ipython",
    "version": 3
   },
   "file_extension": ".py",
   "mimetype": "text/x-python",
   "name": "python",
   "nbconvert_exporter": "python",
   "pygments_lexer": "ipython3",
   "version": "3.6.5"
  }
 },
 "nbformat": 4,
 "nbformat_minor": 2
}
